{
  "cells": [
    {
      "cell_type": "code",
      "execution_count": 78,
      "id": "71a7354c",
      "metadata": {},
      "outputs": [
        {
          "name": "stdout",
          "output_type": "stream",
          "text": [
            "338\n"
          ]
        }
      ],
      "source": [
        "atoms1=[]\n",
        "atoms2=[]\n",
        "with open(\"AF_contacts\", \"r\") as file:\n",
        "    start_reading = False  # Variable de control para indicar si se debe empezar a leer desde la línea 17\n",
        "    for line_number, line in enumerate(file, start=1):\n",
        "        if start_reading:\n",
        "            atom1=\"\"\n",
        "            atom2=\"\"\n",
        "            columns = line.split()\n",
        "            atom1=(columns[1]+columns[2]+columns[3])\n",
        "            atoms1.append(atom1)\n",
        "            atom2=(columns[5]+columns[6]+columns[7])\n",
        "            atoms2.append(atom2)\n",
        "        if line_number == 8:\n",
        "            start_reading = True\n",
        "atoms3=[]\n",
        "atoms4=[]\n",
        "with open(\"Galaxy4_0_contacts\", \"r\") as file:\n",
        "    start_reading = False  # Variable de control para indicar si se debe empezar a leer desde la línea 17\n",
        "    for line_number, line in enumerate(file, start=1):\n",
        "        if start_reading:\n",
        "            atom3=\"\"\n",
        "            atom4=\"\"\n",
        "            columns = line.split()\n",
        "            atom3=(columns[1]+columns[2]+columns[3])\n",
        "            atoms3.append(atom3)\n",
        "            atom4=(columns[5]+columns[6]+columns[7])\n",
        "            atoms4.append(atom4)\n",
        "        if line_number == 8:\n",
        "            start_reading = True\n",
        "common_contacts=0\n",
        "for i in range(len(atoms1)):\n",
        "    for j in range(len(atoms3)):\n",
        "        if atoms1[i]==atoms3[j]:\n",
        "            if atoms2[i]==atoms4[j]:\n",
        "                common_contacts=common_contacts+1\n",
        "print(common_contacts)\n"
      ]
    },
    {
      "cell_type": "code",
      "execution_count": null,
      "id": "2f7c10d3",
      "metadata": {},
      "outputs": [],
      "source": []
    }
  ],
  "metadata": {
    "kernelspec": {
      "display_name": "Python 3 (ipykernel)",
      "language": "python",
      "name": "python3"
    },
    "language_info": {
      "codemirror_mode": {
        "name": "ipython",
        "version": 3
      },
      "file_extension": ".py",
      "mimetype": "text/x-python",
      "name": "python",
      "nbconvert_exporter": "python",
      "pygments_lexer": "ipython3",
      "version": "3.11.4"
    }
  },
  "nbformat": 4,
  "nbformat_minor": 5
}
